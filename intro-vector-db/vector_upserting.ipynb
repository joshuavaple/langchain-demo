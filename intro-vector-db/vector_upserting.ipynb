{
 "cells": [
  {
   "cell_type": "code",
   "execution_count": 37,
   "metadata": {},
   "outputs": [
    {
     "data": {
      "text/plain": [
       "True"
      ]
     },
     "execution_count": 37,
     "metadata": {},
     "output_type": "execute_result"
    }
   ],
   "source": [
    "from langchain.document_loaders import TextLoader\n",
    "from langchain.text_splitter import CharacterTextSplitter, RecursiveCharacterTextSplitter\n",
    "from langchain_openai import OpenAIEmbeddings, OpenAI\n",
    "from langchain_pinecone import PineconeVectorStore\n",
    "from dotenv import load_dotenv\n",
    "import os\n",
    "\n",
    "load_dotenv()"
   ]
  },
  {
   "cell_type": "code",
   "execution_count": 32,
   "metadata": {},
   "outputs": [],
   "source": [
    "index_name = \"psa-openai-ada002-embeddings\"\n",
    "namespace = \"psa-press-releases\"\n",
    "embedding_model = OpenAIEmbeddings()\n",
    "vectorstore = PineconeVectorStore(\n",
    "    index_name=index_name,\n",
    "    embedding=embedding_model,\n",
    "    namespace=namespace,\n",
    ")"
   ]
  },
  {
   "cell_type": "markdown",
   "metadata": {},
   "source": [
    "### 1. Chunking the incoming texts"
   ]
  },
  {
   "cell_type": "code",
   "execution_count": 42,
   "metadata": {},
   "outputs": [
    {
     "data": {
      "text/plain": [
       "['./data\\\\psa_jurong_expansion.txt', './data\\\\psa_mersin_milestones.txt']"
      ]
     },
     "execution_count": 42,
     "metadata": {},
     "output_type": "execute_result"
    }
   ],
   "source": [
    "root_dir = \"./data\"\n",
    "file_paths = [os.path.join(root_dir, file_name) for file_name in os.listdir(root_dir) if file_name.endswith(\".txt\") and file_name.startswith(\"psa\")]\n",
    "file_paths"
   ]
  },
  {
   "cell_type": "code",
   "execution_count": 58,
   "metadata": {},
   "outputs": [],
   "source": [
    "documents = []\n",
    "for file_path in file_paths:\n",
    "    loader = TextLoader(file_path=file_path, encoding='utf8')\n",
    "    document = loader.load() \n",
    "    # minor cleaning: remove the \\n characters:\n",
    "    for i in range(len(document)):\n",
    "        document[i].page_content = document[i].page_content.replace('\\n', ' ')\n",
    "    documents.append(document) # needs to append, not extend, to preserve the list, because the splitter expects a list of documents"
   ]
  },
  {
   "cell_type": "code",
   "execution_count": 76,
   "metadata": {},
   "outputs": [
    {
     "data": {
      "text/plain": [
       "[[Document(page_content='PSA Singapore (PSA) has announced a strategic expansion of its Jurong Island Terminal (JIT) to  meet growing demand for sustainable, efficient and resilient supply chain solutions from industries  based on Jurong Island. Located on the northwestern seafront of Jurong Island, JIT offers twice-daily barge sailings that  connect beneficial cargo owners (BCOs) on Jurong Island with PSA’s main hubs at Tuas, Pasir  Panjang and Brani, from where they can leverage Singapore’s connectivity for unparalleled access  to global markets. Jurong Island is the nucleus of Singapore’s Energy and Chemicals sector. Managed by JTC, it spans  3,000 hectares and hosts more than 100 global companies carrying out refining, olefins production  and chemical manufacturing operations.  While containerised raw materials and finished products can be trucked to and from Jurong Island  by road, barging is less labour intensive, does not contribute to road congestion, and generates about 30% less carbon emissions. Demand for barging has grown steadily in recent years, with JIT volumes recording year-on-year  growth of 13% in 2023 to reach a record-breaking 149,000 twenty-foot equivalent units of containers  (TEU). In partnership with JTC, PSA will expand JIT to increase its annual handling capacity to 300,000  TEUs to cater to projected demand. New Dangerous Goods (DG) handling and cargo transloading facilities will also be developed to complement PSA’s growing suite of physical and digital solutions designed to help BCOs manage their inventories and supply chains more efficiently. To be completed by 2025, the expansion of JIT will also support Jurong Island’s transformation into  a sustainable Energy and Chemicals park, in line with the Singapore Green Plan 2030. A commemorative event, attended by key stakeholders and partners, was held at PSA’s corporate  office, PSA Horizons, today. Mr Nelson Quek, Regional CEO Southeast Asia, PSA International, said, “The port has always been  a gateway and enabler for other pillars of Singapore’s economy, offering reliable, resilient and  competitive access to global sources and markets. The collaboration between PSA and JTC to  expand JIT ensures that current and future enterprises in Singapore’s Energy and Chemicals sector will continue to reap these benefits in the years ahead, and do so in more sustainable ways.”  Mr Alvin Tan, ACEO, JTC, said, “Barging volumes on Jurong Island are set to rise with increasing  demand for sustainable logistics. JIT’s expansion is poised to meet this growth, and collaboration  with partners like PSA is key in our journey to make Jurong Island a sustainable Energy and  Chemicals park.” ', metadata={'source': './data\\\\psa_jurong_expansion.txt'})],\n",
       " [Document(page_content=\"Mersin International Port celebrates milestone of handling over 25 million containers On March 27, 2024, Mersin International Port (MIP), Turkey's leading container terminal,  commemorated a significant achievement of handling more than 25 million Twenty-foot Equivalent  Units (TEU) since its inception in 2007. Marking this milestone, MIP hosted a grand celebration at the  East Med Hub 1 Terminal in Mersin, attended by partners, customers, government representatives,  and industry associations.  MIP was initially established in 2007 as a joint venture between PSA International and Akfen, and in  2017, IFM Investors joined as a third shareholder. Since its establishment, the container volumes handled have on average grown 14.4 percent per year and in 2023 alone, MIP handled approximately  2 million TEUs. This continuous growth was made possible with a strategic investment to expand and  upgrade its facilities and equipment.  To meet the evolving needs of its customers, MIP will continue to future-proof its container business by increasing its handling capacity through its USD 455 million East Med Hub 2 (EMH2) expansion  project. In November 2023, MIP started construction of the second phase of EMH2, which when completed in the first quarter of 2025, will extend the quay by 380 metres to a total length of 880  metres, with a draft of 17,5 metres. This will allow two Ultra Large Container Vessels (ULCVs) of over  400 metres to berth at the same time and increase the port’s capacity from 2.6 to 3.6 million TEUs.  The project also includes the purchase of eight new automated rail mounted gantry cranes (aRMGs)  and four additional ship-to-shore cranes. It will also create 500 direct and 5,000 indirect employment  opportunities.  At the same time, MIP remains committed to reducing its carbon footprint. By continuously investing  in electrically-powered equipment and renewable energy sources, MIP plans to cut its carbon  emissions in half by 2030 and be net zero by 2050.  Ajay Kumar Singh, MIP’s General Manager, believes the terminal’s future is looking bright: “I want to  express my heartfelt thanks to all MIP employees for their outstanding contribution in reaching the  25 million TEU milestone so quickly. In addition, I wish to extend my gratitude to all partners, clients  and government officials who have been alongside MIP in the terminal's remarkable journey.”  About Mersin International Port Management Inc. Mersin International Port Management Inc. (MIP), a joint venture between Akfen Holding and PSA  International, took over T.C.D.D. Mersin Port Management for 36 years on 11 May 2007. In 2017, Mersin  International Port (MIP), whose shareholders include the Australian Fund Company IFM, is connected by rail  and road to Turkey industrialized cities such as Ankara, Gaziantep, Kayseri, Kahramanmaraş, Konya, as well as  bordering countries such as Syria, Iraq and the Commonwealth of Independent States. It is one of the main  container ports in the Mediterranean Region, with transshipment and hinterland connections to the Middle  East and the Black Sea. Mersin International Port (MIP) accounts for a significant portion of Türkiye import and  export volume with its wide hinterland, accessible transport facilities and successful staff. With the total  amount of cargo handled annually and the available area, MIP is the largest port in Türkiye. About PSA International PSA International (PSA) is a leading global port operator and trusted supply chain partner to cargo  stakeholders. PSA’s ports and cargo solutions portfolio comprises over 60 deepsea, rail and inland  terminals, across more than 170 locations in 44 countries – including two flagship port operations in  Singapore and Belgium, as well as affiliated businesses in supply chain management, logistics, marine  and digital services. Drawing on the deep expertise and experience from a diverse global team, PSA  collaborates with its customers and partners to develop world-class port ecosystems and deliver  innovative supply chain solutions to accelerate the shift towards sustainable trade. Visit us at  www.globalpsa.com, or follow us on LinkedIn and Facebook (@globalpsa). For media queries, please contact: Sevda Onbaşlı MIP Corporate Communication Manager Tel: 0324 241 29 00 / 3379 GSM:0533 924 99 18 sonbasli@mersinport.com.tr\", metadata={'source': './data\\\\psa_mersin_milestones.txt'})]]"
      ]
     },
     "execution_count": 76,
     "metadata": {},
     "output_type": "execute_result"
    }
   ],
   "source": [
    "documents"
   ]
  },
  {
   "cell_type": "code",
   "execution_count": null,
   "metadata": {},
   "outputs": [],
   "source": []
  },
  {
   "cell_type": "code",
   "execution_count": 78,
   "metadata": {},
   "outputs": [],
   "source": [
    "texts=[]\n",
    "text_splitter = RecursiveCharacterTextSplitter(chunk_size=500, chunk_overlap=50)\n",
    "# texts = text_splitter.split_documents(documents[0])\n",
    "for document in documents:\n",
    "    texts.extend(text_splitter.split_documents(document))"
   ]
  },
  {
   "cell_type": "code",
   "execution_count": 79,
   "metadata": {},
   "outputs": [
    {
     "data": {
      "text/plain": [
       "[Document(page_content='PSA Singapore (PSA) has announced a strategic expansion of its Jurong Island Terminal (JIT) to  meet growing demand for sustainable, efficient and resilient supply chain solutions from industries  based on Jurong Island. Located on the northwestern seafront of Jurong Island, JIT offers twice-daily barge sailings that  connect beneficial cargo owners (BCOs) on Jurong Island with PSA’s main hubs at Tuas, Pasir  Panjang and Brani, from where they can leverage Singapore’s connectivity for', metadata={'source': './data\\\\psa_jurong_expansion.txt'}),\n",
       " Document(page_content='they can leverage Singapore’s connectivity for unparalleled access  to global markets. Jurong Island is the nucleus of Singapore’s Energy and Chemicals sector. Managed by JTC, it spans  3,000 hectares and hosts more than 100 global companies carrying out refining, olefins production  and chemical manufacturing operations.  While containerised raw materials and finished products can be trucked to and from Jurong Island  by road, barging is less labour intensive, does not contribute to road', metadata={'source': './data\\\\psa_jurong_expansion.txt'}),\n",
       " Document(page_content='labour intensive, does not contribute to road congestion, and generates about 30% less carbon emissions. Demand for barging has grown steadily in recent years, with JIT volumes recording year-on-year  growth of 13% in 2023 to reach a record-breaking 149,000 twenty-foot equivalent units of containers  (TEU). In partnership with JTC, PSA will expand JIT to increase its annual handling capacity to 300,000  TEUs to cater to projected demand. New Dangerous Goods (DG) handling and cargo transloading', metadata={'source': './data\\\\psa_jurong_expansion.txt'}),\n",
       " Document(page_content='Goods (DG) handling and cargo transloading facilities will also be developed to complement PSA’s growing suite of physical and digital solutions designed to help BCOs manage their inventories and supply chains more efficiently. To be completed by 2025, the expansion of JIT will also support Jurong Island’s transformation into  a sustainable Energy and Chemicals park, in line with the Singapore Green Plan 2030. A commemorative event, attended by key stakeholders and partners, was held at PSA’s', metadata={'source': './data\\\\psa_jurong_expansion.txt'}),\n",
       " Document(page_content='key stakeholders and partners, was held at PSA’s corporate  office, PSA Horizons, today. Mr Nelson Quek, Regional CEO Southeast Asia, PSA International, said, “The port has always been  a gateway and enabler for other pillars of Singapore’s economy, offering reliable, resilient and  competitive access to global sources and markets. The collaboration between PSA and JTC to  expand JIT ensures that current and future enterprises in Singapore’s Energy and Chemicals sector will continue to reap', metadata={'source': './data\\\\psa_jurong_expansion.txt'}),\n",
       " Document(page_content='Energy and Chemicals sector will continue to reap these benefits in the years ahead, and do so in more sustainable ways.”  Mr Alvin Tan, ACEO, JTC, said, “Barging volumes on Jurong Island are set to rise with increasing  demand for sustainable logistics. JIT’s expansion is poised to meet this growth, and collaboration  with partners like PSA is key in our journey to make Jurong Island a sustainable Energy and  Chemicals park.”', metadata={'source': './data\\\\psa_jurong_expansion.txt'}),\n",
       " Document(page_content=\"Mersin International Port celebrates milestone of handling over 25 million containers On March 27, 2024, Mersin International Port (MIP), Turkey's leading container terminal,  commemorated a significant achievement of handling more than 25 million Twenty-foot Equivalent  Units (TEU) since its inception in 2007. Marking this milestone, MIP hosted a grand celebration at the  East Med Hub 1 Terminal in Mersin, attended by partners, customers, government representatives,  and industry associations.\", metadata={'source': './data\\\\psa_mersin_milestones.txt'}),\n",
       " Document(page_content='representatives,  and industry associations.  MIP was initially established in 2007 as a joint venture between PSA International and Akfen, and in  2017, IFM Investors joined as a third shareholder. Since its establishment, the container volumes handled have on average grown 14.4 percent per year and in 2023 alone, MIP handled approximately  2 million TEUs. This continuous growth was made possible with a strategic investment to expand and  upgrade its facilities and equipment.  To meet the', metadata={'source': './data\\\\psa_mersin_milestones.txt'}),\n",
       " Document(page_content='its facilities and equipment.  To meet the evolving needs of its customers, MIP will continue to future-proof its container business by increasing its handling capacity through its USD 455 million East Med Hub 2 (EMH2) expansion  project. In November 2023, MIP started construction of the second phase of EMH2, which when completed in the first quarter of 2025, will extend the quay by 380 metres to a total length of 880  metres, with a draft of 17,5 metres. This will allow two Ultra Large', metadata={'source': './data\\\\psa_mersin_milestones.txt'}),\n",
       " Document(page_content='of 17,5 metres. This will allow two Ultra Large Container Vessels (ULCVs) of over  400 metres to berth at the same time and increase the port’s capacity from 2.6 to 3.6 million TEUs.  The project also includes the purchase of eight new automated rail mounted gantry cranes (aRMGs)  and four additional ship-to-shore cranes. It will also create 500 direct and 5,000 indirect employment  opportunities.  At the same time, MIP remains committed to reducing its carbon footprint. By continuously', metadata={'source': './data\\\\psa_mersin_milestones.txt'}),\n",
       " Document(page_content='to reducing its carbon footprint. By continuously investing  in electrically-powered equipment and renewable energy sources, MIP plans to cut its carbon  emissions in half by 2030 and be net zero by 2050.  Ajay Kumar Singh, MIP’s General Manager, believes the terminal’s future is looking bright: “I want to  express my heartfelt thanks to all MIP employees for their outstanding contribution in reaching the  25 million TEU milestone so quickly. In addition, I wish to extend my gratitude to all', metadata={'source': './data\\\\psa_mersin_milestones.txt'}),\n",
       " Document(page_content=\"In addition, I wish to extend my gratitude to all partners, clients  and government officials who have been alongside MIP in the terminal's remarkable journey.”  About Mersin International Port Management Inc. Mersin International Port Management Inc. (MIP), a joint venture between Akfen Holding and PSA  International, took over T.C.D.D. Mersin Port Management for 36 years on 11 May 2007. In 2017, Mersin  International Port (MIP), whose shareholders include the Australian Fund Company IFM, is\", metadata={'source': './data\\\\psa_mersin_milestones.txt'}),\n",
       " Document(page_content='include the Australian Fund Company IFM, is connected by rail  and road to Turkey industrialized cities such as Ankara, Gaziantep, Kayseri, Kahramanmaraş, Konya, as well as  bordering countries such as Syria, Iraq and the Commonwealth of Independent States. It is one of the main  container ports in the Mediterranean Region, with transshipment and hinterland connections to the Middle  East and the Black Sea. Mersin International Port (MIP) accounts for a significant portion of Türkiye import and', metadata={'source': './data\\\\psa_mersin_milestones.txt'}),\n",
       " Document(page_content='for a significant portion of Türkiye import and  export volume with its wide hinterland, accessible transport facilities and successful staff. With the total  amount of cargo handled annually and the available area, MIP is the largest port in Türkiye. About PSA International PSA International (PSA) is a leading global port operator and trusted supply chain partner to cargo  stakeholders. PSA’s ports and cargo solutions portfolio comprises over 60 deepsea, rail and inland  terminals, across more', metadata={'source': './data\\\\psa_mersin_milestones.txt'}),\n",
       " Document(page_content='deepsea, rail and inland  terminals, across more than 170 locations in 44 countries – including two flagship port operations in  Singapore and Belgium, as well as affiliated businesses in supply chain management, logistics, marine  and digital services. Drawing on the deep expertise and experience from a diverse global team, PSA  collaborates with its customers and partners to develop world-class port ecosystems and deliver  innovative supply chain solutions to accelerate the shift towards', metadata={'source': './data\\\\psa_mersin_milestones.txt'}),\n",
       " Document(page_content='chain solutions to accelerate the shift towards sustainable trade. Visit us at  www.globalpsa.com, or follow us on LinkedIn and Facebook (@globalpsa). For media queries, please contact: Sevda Onbaşlı MIP Corporate Communication Manager Tel: 0324 241 29 00 / 3379 GSM:0533 924 99 18 sonbasli@mersinport.com.tr', metadata={'source': './data\\\\psa_mersin_milestones.txt'})]"
      ]
     },
     "execution_count": 79,
     "metadata": {},
     "output_type": "execute_result"
    }
   ],
   "source": [
    "texts"
   ]
  },
  {
   "cell_type": "markdown",
   "metadata": {},
   "source": [
    "### 2. Naively Upserting"
   ]
  },
  {
   "cell_type": "code",
   "execution_count": 7,
   "metadata": {},
   "outputs": [],
   "source": [
    "# we can insert the embeddings into the Pinecone vector store\n",
    "docsearch = vectorstore.from_documents(texts, embedding_model, index_name=index_name, namespace=namespace)"
   ]
  },
  {
   "cell_type": "code",
   "execution_count": 8,
   "metadata": {},
   "outputs": [],
   "source": [
    "# what if we re-run with the same index_name and namespace?\n",
    "# this will simply create a new copy with a different ID\n",
    "docsearch = vectorstore.from_documents(texts, embedding_model, index_name=index_name, namespace=namespace)\n"
   ]
  },
  {
   "cell_type": "markdown",
   "metadata": {},
   "source": [
    "### 3. Upserting if text not exist"
   ]
  },
  {
   "cell_type": "code",
   "execution_count": 85,
   "metadata": {},
   "outputs": [],
   "source": [
    "# to avoid creating a new copy, we can perform a similarity search with top_k=1\n",
    "# only insert if the top_k result is not an exact match of the incoming text\n",
    "\n",
    "\n",
    "# perform a similarity search on a candidate:\n",
    "# query = texts[0].page_content\n",
    "# similarity = vectorstore.similarity_search(query=query, k=1, namespace=namespace)\n",
    "# if similarity[0].page_content == query:\n",
    "#     print(\"Exact match found, skipping insertion\")\n",
    "# else:\n",
    "#     print(\"Inserting new document\")\n",
    "\n",
    "# let's wrap this in a function:\n",
    "def insert_document(texts, vectorstore: PineconeVectorStore, embedding_model: OpenAIEmbeddings, index_name:str, namespace:str):\n",
    "    for text in texts:\n",
    "        similarity = vectorstore.similarity_search(query=text.page_content, k=1, namespace=namespace)\n",
    "        if len(similarity)>0 and similarity[0].page_content == text.page_content:\n",
    "            print(\"Exact match found, skipping insertion\")\n",
    "        else:\n",
    "            print(\"Inserting new document\")\n",
    "            try:\n",
    "                vectorstore.from_documents([text], embedding_model, index_name=index_name, namespace=namespace)\n",
    "                print(f\"Document inserted: {text.page_content[:50]}...\")\n",
    "            except Exception as e:\n",
    "                print(f\"Error inserting document: {e}\")\n",
    "\n"
   ]
  },
  {
   "cell_type": "code",
   "execution_count": 86,
   "metadata": {},
   "outputs": [
    {
     "name": "stdout",
     "output_type": "stream",
     "text": [
      "Inserting new document\n",
      "Document inserted: PSA Singapore (PSA) has announced a strategic expa...\n",
      "Inserting new document\n",
      "Document inserted: they can leverage Singapore’s connectivity for unp...\n",
      "Inserting new document\n",
      "Document inserted: labour intensive, does not contribute to road cong...\n",
      "Inserting new document\n",
      "Document inserted: Goods (DG) handling and cargo transloading facilit...\n",
      "Inserting new document\n",
      "Document inserted: key stakeholders and partners, was held at PSA’s c...\n",
      "Inserting new document\n",
      "Document inserted: Energy and Chemicals sector will continue to reap ...\n",
      "Inserting new document\n",
      "Document inserted: Mersin International Port celebrates milestone of ...\n",
      "Inserting new document\n",
      "Document inserted: representatives,  and industry associations.  MIP ...\n",
      "Inserting new document\n",
      "Document inserted: its facilities and equipment.  To meet the evolvin...\n",
      "Inserting new document\n",
      "Document inserted: of 17,5 metres. This will allow two Ultra Large Co...\n",
      "Inserting new document\n",
      "Document inserted: to reducing its carbon footprint. By continuously ...\n",
      "Inserting new document\n",
      "Document inserted: In addition, I wish to extend my gratitude to all ...\n",
      "Inserting new document\n",
      "Document inserted: include the Australian Fund Company IFM, is connec...\n",
      "Inserting new document\n",
      "Document inserted: for a significant portion of Türkiye import and  e...\n",
      "Inserting new document\n",
      "Document inserted: deepsea, rail and inland  terminals, across more t...\n",
      "Inserting new document\n",
      "Document inserted: chain solutions to accelerate the shift towards su...\n"
     ]
    }
   ],
   "source": [
    "insert_document(texts, vectorstore, embedding_model, index_name, namespace)"
   ]
  },
  {
   "cell_type": "code",
   "execution_count": 23,
   "metadata": {},
   "outputs": [],
   "source": [
    "# alternatively, we can convert the text to embeddings first:\n",
    "# however this method is not supported for Pinecone yet\n",
    "embedding_model = OpenAIEmbeddings()\n",
    "embedding = embedding_model.embed_query(texts[0].page_content)\n",
    "docs = vectorstore.similarity_search_by_vector(embedding)\n",
    "print(docs[0].page_content)"
   ]
  },
  {
   "cell_type": "markdown",
   "metadata": {},
   "source": [
    "### 4. Managing the index"
   ]
  },
  {
   "cell_type": "code",
   "execution_count": 35,
   "metadata": {},
   "outputs": [],
   "source": [
    "vectorstore.delete(index_name=index_name, namespace=namespace, delete_all=True)"
   ]
  }
 ],
 "metadata": {
  "kernelspec": {
   "display_name": "Python 3",
   "language": "python",
   "name": "python3"
  },
  "language_info": {
   "codemirror_mode": {
    "name": "ipython",
    "version": 3
   },
   "file_extension": ".py",
   "mimetype": "text/x-python",
   "name": "python",
   "nbconvert_exporter": "python",
   "pygments_lexer": "ipython3",
   "version": "3.11.7"
  }
 },
 "nbformat": 4,
 "nbformat_minor": 2
}
