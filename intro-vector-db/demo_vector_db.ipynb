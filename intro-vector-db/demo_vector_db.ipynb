{
 "cells": [
  {
   "cell_type": "code",
   "execution_count": 28,
   "metadata": {},
   "outputs": [
    {
     "data": {
      "text/plain": [
       "True"
      ]
     },
     "execution_count": 28,
     "metadata": {},
     "output_type": "execute_result"
    }
   ],
   "source": [
    "from langchain.document_loaders import TextLoader\n",
    "from langchain.text_splitter import CharacterTextSplitter, RecursiveCharacterTextSplitter\n",
    "from langchain_openai import OpenAIEmbeddings, OpenAI\n",
    "from langchain_pinecone import PineconeVectorStore\n",
    "import pinecone\n",
    "from dotenv import load_dotenv\n",
    "from langchain.chains import RetrievalQA\n",
    "import os\n",
    "\n",
    "\n",
    "load_dotenv()"
   ]
  },
  {
   "cell_type": "markdown",
   "metadata": {},
   "source": [
    "### 1. Character splitting, embedding and Upserting"
   ]
  },
  {
   "cell_type": "markdown",
   "metadata": {},
   "source": [
    "Note that if the texts are the same, upserting will overwrite duplicates existing vectors"
   ]
  },
  {
   "cell_type": "code",
   "execution_count": 48,
   "metadata": {},
   "outputs": [],
   "source": [
    "# loader = TextLoader(file_path='./data/psa_press_release.txt', encoding='utf8')\n",
    "loader = TextLoader(file_path='./data/psa_jurong_expansion.txt', encoding='utf8')\n",
    "document = loader.load() # this returns a list of Document objects\n",
    "# minor cleaning: remove the \\n characters:\n",
    "for i in range(len(document)):\n",
    "    document[i].page_content = document[i].page_content.replace('\\n', ' ')"
   ]
  },
  {
   "cell_type": "code",
   "execution_count": 49,
   "metadata": {},
   "outputs": [],
   "source": [
    "# text_splitter = CharacterTextSplitter(chunk_size=1000, chunk_overlap=0, separator=' ') # we can try with using separator=' ' to represent words\n",
    "text_splitter = RecursiveCharacterTextSplitter(chunk_size=500, chunk_overlap=50)\n",
    "texts = text_splitter.split_documents(document)"
   ]
  },
  {
   "cell_type": "code",
   "execution_count": 50,
   "metadata": {},
   "outputs": [
    {
     "data": {
      "text/plain": [
       "[489, 493, 498, 497, 495, 430]"
      ]
     },
     "execution_count": 50,
     "metadata": {},
     "output_type": "execute_result"
    }
   ],
   "source": [
    "[len(text.page_content) for text in texts]"
   ]
  },
  {
   "cell_type": "code",
   "execution_count": 51,
   "metadata": {},
   "outputs": [
    {
     "data": {
      "text/plain": [
       "[Document(page_content='PSA Singapore (PSA) has announced a strategic expansion of its Jurong Island Terminal (JIT) to  meet growing demand for sustainable, efficient and resilient supply chain solutions from industries  based on Jurong Island. Located on the northwestern seafront of Jurong Island, JIT offers twice-daily barge sailings that  connect beneficial cargo owners (BCOs) on Jurong Island with PSA’s main hubs at Tuas, Pasir  Panjang and Brani, from where they can leverage Singapore’s connectivity for', metadata={'source': './data/psa_jurong_expansion.txt'}),\n",
       " Document(page_content='they can leverage Singapore’s connectivity for unparalleled access  to global markets. Jurong Island is the nucleus of Singapore’s Energy and Chemicals sector. Managed by JTC, it spans  3,000 hectares and hosts more than 100 global companies carrying out refining, olefins production  and chemical manufacturing operations.  While containerised raw materials and finished products can be trucked to and from Jurong Island  by road, barging is less labour intensive, does not contribute to road', metadata={'source': './data/psa_jurong_expansion.txt'}),\n",
       " Document(page_content='labour intensive, does not contribute to road congestion, and generates about 30% less carbon emissions. Demand for barging has grown steadily in recent years, with JIT volumes recording year-on-year  growth of 13% in 2023 to reach a record-breaking 149,000 twenty-foot equivalent units of containers  (TEU). In partnership with JTC, PSA will expand JIT to increase its annual handling capacity to 300,000  TEUs to cater to projected demand. New Dangerous Goods (DG) handling and cargo transloading', metadata={'source': './data/psa_jurong_expansion.txt'}),\n",
       " Document(page_content='Goods (DG) handling and cargo transloading facilities will also be developed to complement PSA’s growing suite of physical and digital solutions designed to help BCOs manage their inventories and supply chains more efficiently. To be completed by 2025, the expansion of JIT will also support Jurong Island’s transformation into  a sustainable Energy and Chemicals park, in line with the Singapore Green Plan 2030. A commemorative event, attended by key stakeholders and partners, was held at PSA’s', metadata={'source': './data/psa_jurong_expansion.txt'}),\n",
       " Document(page_content='key stakeholders and partners, was held at PSA’s corporate  office, PSA Horizons, today. Mr Nelson Quek, Regional CEO Southeast Asia, PSA International, said, “The port has always been  a gateway and enabler for other pillars of Singapore’s economy, offering reliable, resilient and  competitive access to global sources and markets. The collaboration between PSA and JTC to  expand JIT ensures that current and future enterprises in Singapore’s Energy and Chemicals sector will continue to reap', metadata={'source': './data/psa_jurong_expansion.txt'}),\n",
       " Document(page_content='Energy and Chemicals sector will continue to reap these benefits in the years ahead, and do so in more sustainable ways.”  Mr Alvin Tan, ACEO, JTC, said, “Barging volumes on Jurong Island are set to rise with increasing  demand for sustainable logistics. JIT’s expansion is poised to meet this growth, and collaboration  with partners like PSA is key in our journey to make Jurong Island a sustainable Energy and  Chemicals park.”', metadata={'source': './data/psa_jurong_expansion.txt'})]"
      ]
     },
     "execution_count": 51,
     "metadata": {},
     "output_type": "execute_result"
    }
   ],
   "source": [
    "texts"
   ]
  },
  {
   "cell_type": "code",
   "execution_count": 52,
   "metadata": {},
   "outputs": [],
   "source": [
    "embeddings = OpenAIEmbeddings(api_key=os.environ.get(\"OPENAI_API_KEY\"))\n",
    "# we can insert the embeddings into the Pinecone vector store\n",
    "docsearch = PineconeVectorStore.from_documents(texts, embeddings, index_name='psa-openai-ada002-embeddings')"
   ]
  },
  {
   "cell_type": "markdown",
   "metadata": {},
   "source": [
    "### Delete vectors"
   ]
  },
  {
   "cell_type": "code",
   "execution_count": 27,
   "metadata": {},
   "outputs": [
    {
     "data": {
      "text/plain": [
       "{}"
      ]
     },
     "execution_count": 27,
     "metadata": {},
     "output_type": "execute_result"
    }
   ],
   "source": [
    "# pip install pinecone-client\n",
    "# from pinecone import Pinecone\n",
    "\n",
    "# pc = Pinecone()\n",
    "# index = pc.Index(\"psa-openai-ada002-embeddings\")\n",
    "\n",
    "# index.delete(delete_all=True)"
   ]
  },
  {
   "cell_type": "markdown",
   "metadata": {},
   "source": [
    "### 2. Retrieval with Stuffing"
   ]
  },
  {
   "cell_type": "code",
   "execution_count": 53,
   "metadata": {},
   "outputs": [],
   "source": [
    "# we have to go through the as_retriever() method to get the retriever object because it abstracts the underlying vector db and its method of searching\n",
    "qa = RetrievalQA.from_chain_type(\n",
    "    llm=OpenAI(), chain_type='stuff', retriever=docsearch.as_retriever(), return_source_documents=True\n",
    ")"
   ]
  },
  {
   "cell_type": "code",
   "execution_count": 58,
   "metadata": {},
   "outputs": [
    {
     "name": "stdout",
     "output_type": "stream",
     "text": [
      " 149,000 twenty-foot equivalent units of containers (TEU).\n"
     ]
    }
   ],
   "source": [
    "# query=\"How much container volume has Mersin Port handled since its inception?\"\n",
    "# query=\"What is the future port capacity expansion?\"\n",
    "# query=\"list assets under PSA International's ports and cargo solutions portfolio and their locations\"\n",
    "# query=\"What is the expansion plan for Jurong Port with PSA?\"\n",
    "query=\"How much volume did Jurong Island Terminal (JIT) handle in 2023?\"\n",
    "result=qa({\"query\":query})\n",
    "print(result['result'])"
   ]
  }
 ],
 "metadata": {
  "kernelspec": {
   "display_name": "Python 3",
   "language": "python",
   "name": "python3"
  },
  "language_info": {
   "codemirror_mode": {
    "name": "ipython",
    "version": 3
   },
   "file_extension": ".py",
   "mimetype": "text/x-python",
   "name": "python",
   "nbconvert_exporter": "python",
   "pygments_lexer": "ipython3",
   "version": "3.11.7"
  }
 },
 "nbformat": 4,
 "nbformat_minor": 2
}
